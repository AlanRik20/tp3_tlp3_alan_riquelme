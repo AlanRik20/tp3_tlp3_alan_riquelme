{
 "cells": [
  {
   "cell_type": "markdown",
   "id": "498731c6",
   "metadata": {},
   "source": [
    "# Trabajo Practico n3 - Trabajando con Lists y Sets.\n",
    "## Criterios de evaluación.\n",
    "\n",
    "* Se deben utilizar nombres de variables descriptivos y claros (Utilizar la nomeclatura correspondiente para los nombres de variables).\n",
    "* Comentarios claros y concisos que expliquen el propósito de cada sección del código.\n",
    "* Utilizar mensajes de commit **descriptivos**. (Puedes utilizar la extension CONVENTIONAL COMMIT de VS-CODE). \n",
    "* Entrega en tiempo y forma.\n",
    "* Todo el código desarrollado debe ser subido a un repositorio en GitHub (el nombre del repositorio de seguir la siguiente estructura: tp3_tlp3_nombre_apellido).\n",
    "* Para resolver las actividades se debe insertar casillas de codigo entre cada actividad del cuaderno de Jupyter\n",
    "* El repositorio de GitHub debe incluir un archivo README.md con las instrucciones necesarias para la correcta ejecución del código.\n",
    "\n",
    "### ¡Importante!\n",
    "**El incumplimiento de los criterios de evaluación restará puntos en la nota final del práctico!**"
   ]
  },
  {
   "cell_type": "markdown",
   "id": "b361a7b6",
   "metadata": {},
   "source": [
    "### Actividad 1: \n",
    "Suma de todos los elementos de una lista, utilizando bucles repetitivos (for, while)."
   ]
  },
  {
   "cell_type": "code",
   "execution_count": 3,
   "id": "26009294",
   "metadata": {},
   "outputs": [
    {
     "name": "stdout",
     "output_type": "stream",
     "text": [
      "204\n"
     ]
    }
   ],
   "source": [
    "\n",
    "# Actividad 1:\n",
    "\n",
    "numbers = [14, 23, 34, 48, 85]\n",
    "\n",
    "# se crea una variable a modo de acumulador \"suma_numbers\" \n",
    "suma_numbers_for=0\n",
    "\n",
    "# y se inicializa un bucle for que recorre cada número de la lista y lo va sumando\n",
    "for i in numbers:\n",
    "    suma_numbers_for+=i\n",
    "print(suma_numbers_for)\n"
   ]
  },
  {
   "cell_type": "markdown",
   "id": "0c239195",
   "metadata": {},
   "source": [
    "### Actividad 2: \n",
    "Encontrar el número más grande en una lista, utilizando bucles repetitivos (for, while)."
   ]
  },
  {
   "cell_type": "code",
   "execution_count": null,
   "id": "3611d25a",
   "metadata": {},
   "outputs": [
    {
     "name": "stdout",
     "output_type": "stream",
     "text": [
      "[29, 20, 29, 53, 44]\n",
      "el mayor número de generado es: 53\n"
     ]
    }
   ],
   "source": [
    "\n",
    "# Actividad 2:\n",
    "\n",
    "from random import randint\n",
    "random_numbers =[randint(1, 100) for i in range(5)]\n",
    "\n",
    "#se crean dos variables, una que servirá para almacenar los números generados y hacer más fácil la búsqueda del mayor\n",
    "numbers_list=[]\n",
    "# y otra variable que almacenará el número mayor\n",
    "num_max=0\n",
    "\n",
    "#se inicializa un bucle for que recorrerá los números aleatorios generados\n",
    "for i in random_numbers:\n",
    "    \n",
    "    #se los agrega a la lista de números previamente definida y se busca el mayor\n",
    "    numbers_list.append(i)\n",
    "    num_max=max(numbers_list)\n",
    "\n",
    "#por último se imprime la lista generada y el número mayor\n",
    "print(numbers_list)\n",
    "print(f\"el mayor número generado es: {num_max}\")"
   ]
  },
  {
   "cell_type": "markdown",
   "id": "70a24b97",
   "metadata": {},
   "source": [
    "### Actividad 3:\n",
    "Contar cuántas veces aparece un número específico. Utiliza estructuras repetitivas para la resolucion de este ejercicio. "
   ]
  },
  {
   "cell_type": "code",
   "execution_count": null,
   "id": "a9c8ebc7",
   "metadata": {},
   "outputs": [
    {
     "name": "stdout",
     "output_type": "stream",
     "text": [
      "[118, 58, 15, 143, 198, 91, 31, 144, 172, 184, 5, 69, 187, 99, 190, 99, 115, 172, 122, 161]\n",
      "\n",
      "Conteo de repeticiones por número:\n",
      "El número 118 aparece 1 vez/veces.\n",
      "El número 58 aparece 1 vez/veces.\n",
      "El número 15 aparece 1 vez/veces.\n",
      "El número 143 aparece 1 vez/veces.\n",
      "El número 198 aparece 1 vez/veces.\n",
      "El número 91 aparece 1 vez/veces.\n",
      "El número 31 aparece 1 vez/veces.\n",
      "El número 144 aparece 1 vez/veces.\n",
      "El número 172 aparece 2 vez/veces.\n",
      "El número 184 aparece 1 vez/veces.\n",
      "El número 5 aparece 1 vez/veces.\n",
      "El número 69 aparece 1 vez/veces.\n",
      "El número 187 aparece 1 vez/veces.\n",
      "El número 99 aparece 2 vez/veces.\n",
      "El número 190 aparece 1 vez/veces.\n",
      "El número 115 aparece 1 vez/veces.\n",
      "El número 122 aparece 1 vez/veces.\n",
      "El número 161 aparece 1 vez/veces.\n"
     ]
    }
   ],
   "source": [
    "\n",
    "# Actividad 3:\n",
    "\n",
    "lists = [randint(1, 200) for i in range(20)]\n",
    "\n",
    "#se imprime la lista original con los números generados aleatoriamente\n",
    "# además se crean dos variables, una es el diccionario para guardar los numeros y las veces que se repitió (cant_repetidas)\n",
    "#y el otro es a modo de contador (cant_numbers)\n",
    "print(lists)\n",
    "cant_repetidas={}\n",
    "cant_numbers=0\n",
    "#se crea un bucle for que recorre los números repetidos\n",
    "for i in lists:\n",
    "    \n",
    "    if i in cant_repetidas:\n",
    "        #se crea una condicional que pregunta si el número ya existe y le suma 1\n",
    "        cant_repetidas[i] += 1\n",
    "    else:\n",
    "        #si no existe lo deja como está\n",
    "        cant_repetidas[i] = 1\n",
    "\n",
    "#y se imprime cada número y la cantidad de veces que se repitió\n",
    "print(\"\\nConteo de repeticiones por número:\")\n",
    "for num, rep in cant_repetidas.items():\n",
    "    print(f\"El número {num} aparece {rep} vez/veces.\")"
   ]
  },
  {
   "cell_type": "markdown",
   "id": "b8dac397",
   "metadata": {},
   "source": [
    "### Actividad 4: \n",
    "Invertir una lista sin usar reverse() ni [::-1]"
   ]
  },
  {
   "cell_type": "code",
   "execution_count": null,
   "id": "d04fd492",
   "metadata": {},
   "outputs": [
    {
     "name": "stdout",
     "output_type": "stream",
     "text": [
      "[43, 29, 14, 36, 43, 46, 36, 28]\n",
      "[28, 36, 46, 43, 36, 14, 29, 43]\n"
     ]
    }
   ],
   "source": [
    "\n",
    "# Actividad 4:\n",
    "\n",
    "#se generan los números aleatorios y se imprimen para saber el orden original\n",
    "lists_two = [randint(1, 50) for i in range(8)]\n",
    "print(lists_two)\n",
    "\n",
    "#se crean dos variables que se usarán para intercambiar los índices de los números en la lista\n",
    "inicio = 0\n",
    "fin = len(lists_two) - 1\n",
    "\n",
    "#se inicia un bucle while que pregunta si \"inicio\" es menor que \"fin\"\n",
    "while inicio < fin:\n",
    "\n",
    "    #y acá es en donde se intercambian los índices\n",
    "    #el funcionamiento es básicamente el siguiente: el índice 0 (especificado con la variable inicio) de la lista \n",
    "    # y el último (especificado con la variable fin) cambian de lugar, [0]=1 [-1]=10 --> [0]=10 [-1]=1\n",
    "    lists_two[inicio], lists_two[fin] = lists_two[fin], lists_two[inicio]\n",
    "    inicio += 1\n",
    "    fin -= 1\n",
    "\n",
    "print(lists_two) \n",
    "\n",
    "#creo que no cumple con los criterios pero así le hice"
   ]
  },
  {
   "cell_type": "markdown",
   "id": "8889d0f2",
   "metadata": {},
   "source": [
    "### Actividad 5:\n",
    "Sumar los elementos de dos listas posición por posición, utilizando solo bucles repetititivos (for,while)."
   ]
  },
  {
   "cell_type": "code",
   "execution_count": null,
   "id": "bc0ec844",
   "metadata": {},
   "outputs": [
    {
     "name": "stdout",
     "output_type": "stream",
     "text": [
      "[3, 7, 11, 16, 18]\n"
     ]
    }
   ],
   "source": [
    "\n",
    "# Actividad 5:\n",
    "\n",
    "lists_one = [ 2,4,6,7,8 ]\n",
    "lists_two = [ 1,3,5,9,10 ]\n",
    "\n",
    "#variable que se usará para almacenar la suma de los números de las dos listas\n",
    "suma_listas = []\n",
    "\n",
    "# recorremos las listas por índice y se van sumando\n",
    "for i in range(len(lists_one)):\n",
    "    suma = lists_one[i] + lists_two[i]\n",
    "    suma_listas.append(suma)\n",
    "\n",
    "print(suma_listas) "
   ]
  },
  {
   "cell_type": "markdown",
   "id": "8ce33e6b",
   "metadata": {},
   "source": [
    "### Actividad 6:\n",
    "\n",
    "Escribir un programa que almacene el abecedario en una lista, elimine de la lista las letras que ocupen posiciones múltiplos de 3, y muestre por pantalla la lista resultante."
   ]
  },
  {
   "cell_type": "code",
   "execution_count": null,
   "id": "b07326e2",
   "metadata": {},
   "outputs": [
    {
     "name": "stdout",
     "output_type": "stream",
     "text": [
      "Abecedario original: ['a', 'b', 'c', 'd', 'e', 'f', 'g', 'h', 'i', 'j', 'k', 'l', 'm', 'n', 'o', 'p', 'q', 'r', 's', 't', 'u', 'v', 'w', 'x', 'y', 'z']\n",
      "Abecedario filtrado: ['a', 'b', 'd', 'e', 'g', 'h', 'j', 'k', 'm', 'n', 'p', 'q', 's', 't', 'v', 'w', 'y', 'z']\n"
     ]
    }
   ],
   "source": [
    "\n",
    "# Actividad 6:\n",
    "\n",
    "# variable que genera el abecedario\n",
    "abecedario = [chr(i) for i in range(ord('a'), ord('z') + 1)]\n",
    "\n",
    "#se elimina las letras que sean múltiplo de 3\n",
    "abecedario_filtrado = [letra for indice, letra in enumerate(abecedario, start=1) if indice % 3 != 0]\n",
    "\n",
    "print(\"Abecedario original:\", abecedario)\n",
    "print(\"Abecedario filtrado:\", abecedario_filtrado)"
   ]
  },
  {
   "cell_type": "markdown",
   "id": "5bfeb4b5",
   "metadata": {},
   "source": [
    "### Actividad 7:\n",
    "\n",
    "Escribir un programa que pida al usuario una palabra y muestre por pantalla si es un palíndromo (una palabra que se escribe de la misma forma al derecho y al reves)."
   ]
  },
  {
   "cell_type": "code",
   "execution_count": null,
   "id": "2365afcc",
   "metadata": {},
   "outputs": [],
   "source": [
    "\n",
    "# todo:"
   ]
  },
  {
   "cell_type": "markdown",
   "id": "ed8b51be",
   "metadata": {},
   "source": [
    "### Actividad 8:\n",
    "\n",
    "Teniendo en cuenta el conjunto 1 y el conjunto 2, sin usar el operador de intersección &, calcular la intersección de dichos conjuntos."
   ]
  },
  {
   "cell_type": "code",
   "execution_count": null,
   "id": "21a434b9",
   "metadata": {},
   "outputs": [],
   "source": [
    "conjunto1 = {1, 2, 3, 4}\n",
    "conjunto2 = {3, 4, 5, 6}\n",
    "# todo:"
   ]
  },
  {
   "cell_type": "markdown",
   "id": "31b460dc",
   "metadata": {},
   "source": [
    "### Actividad 9:\n",
    "Eliminar duplicados de una lista usando un set."
   ]
  },
  {
   "cell_type": "code",
   "execution_count": null,
   "id": "0ef62008",
   "metadata": {},
   "outputs": [],
   "source": [
    "\n",
    "# todo:\n",
    "lista = [1, 2, 2, 3, 4, 4, 5]\n"
   ]
  },
  {
   "cell_type": "markdown",
   "id": "075f1f2c",
   "metadata": {},
   "source": [
    "### Actividad 10:\n",
    "\n",
    "Escribir un programa que cree 2 matrices y realice su multiplicacion."
   ]
  },
  {
   "cell_type": "code",
   "execution_count": null,
   "id": "4c1fd0e1",
   "metadata": {},
   "outputs": [
    {
     "name": "stdout",
     "output_type": "stream",
     "text": [
      "Generando valores aleatorios para la Matriz 1:\n",
      "Fila 1: 5 8\n",
      "Fila 2: 6 6\n",
      "Generando valores aleatorios para la Matriz 2:\n",
      "Fila 1: 3 9\n",
      "Fila 2: 5 10\n",
      "Matriz Resultante:\n",
      "55 125\n",
      "48 114\n"
     ]
    }
   ],
   "source": [
    "# Actividad 10\n",
    "\n",
    "import random  # Importa el módulo random para generar números aleatorios\n",
    "\n",
    "# Función que genera una matriz con valores aleatorios entre 0 y 10\n",
    "def generar_matriz_aleatoria(filas, columnas, nombre):\n",
    "    print(f\"Generando valores aleatorios para la {nombre}:\")\n",
    "    matriz = []  # Lista que almacenará las filas de la matriz\n",
    "    \n",
    "    # Bucle for que recorre cada fila\n",
    "    for i in range(filas):\n",
    "        # Genera una fila con valores aleatorios (tantos como columnas)\n",
    "        fila = [random.randint(0, 10) for _ in range(columnas)]  \n",
    "        \n",
    "        # Agrega la fila generada a la matriz\n",
    "        matriz.append(fila)\n",
    "\n",
    "        # Muestra la fila generada por consola\n",
    "        print(f\"Fila {i+1}: {' '.join(map(str, fila))}\") \n",
    "    \n",
    "    # Retorna la matriz generada\n",
    "    return matriz\n",
    "\n",
    "# Función que multiplica dos matrices (matriz1 y matriz2)\n",
    "def multiplicar_matrices(matriz1, matriz2, filas, columnas):\n",
    "    # Crea una matriz resultado inicializada en ceros con tamaño (filas x filas)\n",
    "    resultado = [[0] * filas for _ in range(filas)]\n",
    "    \n",
    "    # Triple bucle anidado para multiplicar las matrices\n",
    "    # Recorre cada fila de la matriz1\n",
    "    for i in range(filas):\n",
    "        # Recorre cada columna de la matriz2\n",
    "        for j in range(filas):\n",
    "            # Recorre los elementos de la fila de matriz1 y la columna de matriz2\n",
    "            for k in range(columnas):\n",
    "                # Multiplica y acumula el resultado en la posición correspondiente\n",
    "                resultado[i][j] += matriz1[i][k] * matriz2[k][j]\n",
    "    \n",
    "    # Retorna la matriz resultante de la multiplicación\n",
    "    return resultado\n",
    "\n",
    "\n",
    "# Solicita al usuario el número de filas y columnas para la matriz 1\n",
    "filas = int(input(\"Ingrese el número de filas: \"))\n",
    "columnas = int(input(\"Ingrese el número de columnas: \"))\n",
    "\n",
    "# Genera la primera matriz aleatoria con las dimensiones dadas\n",
    "matriz1 = generar_matriz_aleatoria(filas, columnas, \"Matriz 1\")\n",
    "\n",
    "# Genera la segunda matriz aleatoria, con dimensiones invertidas (columnas x filas)\n",
    "matriz2 = generar_matriz_aleatoria(columnas, filas, \"Matriz 2\")\n",
    "\n",
    "# Realiza la multiplicación entre matriz1 y matriz2\n",
    "resultado = multiplicar_matrices(matriz1, matriz2, filas, columnas)\n",
    "\n",
    "# Muestra la matriz resultante en consola\n",
    "print(\"Matriz Resultante:\")\n",
    "for fila in resultado:\n",
    "    print(\" \".join(map(str, fila)))\n"
   ]
  }
 ],
 "metadata": {
  "kernelspec": {
   "display_name": "Python 3",
   "language": "python",
   "name": "python3"
  },
  "language_info": {
   "codemirror_mode": {
    "name": "ipython",
    "version": 3
   },
   "file_extension": ".py",
   "mimetype": "text/x-python",
   "name": "python",
   "nbconvert_exporter": "python",
   "pygments_lexer": "ipython3",
   "version": "3.13.2"
  }
 },
 "nbformat": 4,
 "nbformat_minor": 5
}
